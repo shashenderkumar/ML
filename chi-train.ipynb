{
 "cells": [
  {
   "cell_type": "code",
   "execution_count": 57,
   "metadata": {},
   "outputs": [],
   "source": [
    "# example of chi squared feature selection for categorical data\n",
    "#import pandas as pd\n",
    "from pandas import read_csv\n",
    "from sklearn.model_selection import train_test_split\n",
    "from sklearn.preprocessing import LabelEncoder\n",
    "from sklearn.preprocessing import OrdinalEncoder\n",
    "from sklearn.feature_selection import SelectKBest\n",
    "from sklearn.feature_selection import chi2\n",
    "from matplotlib import pyplot"
   ]
  },
  {
   "cell_type": "code",
   "execution_count": 58,
   "metadata": {},
   "outputs": [],
   "source": [
    "# load the dataset\n",
    "#filename = \"train.csv\"\n",
    "def load_dataset(filename):\n",
    "    # load the dataset as a pandas DataFrame\n",
    "##    data = read_csv(filename, header=None)\n",
    "    data = read_csv(filename)\n",
    "    # retrieve numpy array\n",
    "#    dataset = data.values\n",
    "    # split into input (X) and output (y) variables\n",
    "##    X = dataset[:, :-1]\n",
    "#######\n",
    "    data[['MasVnrType','Electrical','BsmtQual','BsmtCond','BsmtExposure','BsmtFinType1','BsmtFinType2','GarageType','GarageFinish','GarageQual','GarageCond']] = data[['MasVnrType','Electrical','BsmtQual','BsmtCond','BsmtExposure','BsmtFinType1','BsmtFinType2','GarageType','GarageFinish','GarageQual','GarageCond']].fillna('None')\n",
    "\n",
    "    X = data[['MSZoning','Street','LotShape','LandContour','Utilities','LotConfig','LandSlope',\n",
    "                 'Neighborhood','BldgType','HouseStyle','RoofStyle','RoofMatl','Condition1','Condition2',\n",
    "                 'Exterior1st','Exterior2nd',\n",
    "                 'MasVnrType','ExterQual','ExterCond','Foundation','BsmtQual',\n",
    "                 'BsmtCond','BsmtExposure','BsmtFinType1','BsmtFinType2',#'Heating','HeatingQC',\n",
    "                 'CentralAir',\n",
    "                 'Electrical','KitchenQual','Functional','GarageType','GarageFinish','GarageQual',\n",
    "                 'GarageCond','PavedDrive','SaleType','SaleCondition']]\n",
    "###    X = dataset.select_dtypes(include ='object')\n",
    "    y = data[['SalePrice']]\n",
    "    # format all fields as string\n",
    "#    X = X.astype(str)\n",
    "    return X, y"
   ]
  },
  {
   "cell_type": "code",
   "execution_count": 59,
   "metadata": {},
   "outputs": [],
   "source": [
    "# prepare input data\n",
    "def prepare_inputs(X_train, X_test):\n",
    "    oe = OrdinalEncoder()\n",
    "    oe.fit(X_train)\n",
    "    X_train_enc = oe.transform(X_train)\n",
    "    X_test_enc = oe.transform(X_test)\n",
    "    return X_train_enc, X_test_enc"
   ]
  },
  {
   "cell_type": "code",
   "execution_count": 60,
   "metadata": {},
   "outputs": [],
   "source": [
    "# prepare target\n",
    "def prepare_targets(y_train, y_test):\n",
    "    le = LabelEncoder()\n",
    "    le.fit(y_train)\n",
    "    y_train_enc = le.transform(y_train)\n",
    "    y_test_enc = le.transform(y_test)\n",
    "    return y_train_enc, y_test_enc"
   ]
  },
  {
   "cell_type": "code",
   "execution_count": 61,
   "metadata": {},
   "outputs": [],
   "source": [
    "# feature selection\n",
    "def select_features(X_train, y_train, X_test):\n",
    "    fs = SelectKBest(score_func=chi2, k='all')\n",
    "    fs.fit(X_train, y_train)\n",
    "    X_train_fs = fs.transform(X_train)\n",
    "    X_test_fs = fs.transform(X_test)\n",
    "    return X_train_fs, X_test_fs, fs"
   ]
  },
  {
   "cell_type": "code",
   "execution_count": 62,
   "metadata": {},
   "outputs": [
    {
     "name": "stdout",
     "output_type": "stream",
     "text": [
      "Feature 0: 104.074610\n",
      "Feature 1: 2.651216\n",
      "Feature 2: 754.171330\n",
      "Feature 3: 109.830005\n",
      "Feature 4: 215.500000\n",
      "Feature 5: 550.350844\n",
      "Feature 6: 765.774121\n",
      "Feature 7: 2034.506227\n",
      "Feature 8: 1825.017229\n",
      "Feature 9: 769.995743\n",
      "Feature 10: 323.917487\n",
      "Feature 11: 202.782369\n",
      "Feature 12: 206.998282\n",
      "Feature 13: 28.533617\n",
      "Feature 14: 638.270749\n",
      "Feature 15: 721.138173\n",
      "Feature 16: 151.129933\n",
      "Feature 17: 183.315893\n",
      "Feature 18: 77.867535\n",
      "Feature 19: 279.017331\n",
      "Feature 20: 516.332218\n",
      "Feature 21: 151.962028\n",
      "Feature 22: 436.446988\n",
      "Feature 23: 973.993341\n",
      "Feature 24: 143.504713\n",
      "Feature 25: 47.497618\n",
      "Feature 26: 244.877935\n",
      "Feature 27: 272.227279\n",
      "Feature 28: 75.300149\n",
      "Feature 29: 1163.020218\n",
      "Feature 30: 591.767715\n",
      "Feature 31: 117.732389\n",
      "Feature 32: 80.484761\n",
      "Feature 33: 82.446105\n",
      "Feature 34: 191.702007\n",
      "Feature 35: 206.286233\n"
     ]
    },
    {
     "data": {
      "image/png": "[encoded data removed]",
      "text/plain": [
       "<Figure size 432x288 with 1 Axes>"
      ]
     },
     "metadata": {
      "needs_background": "light"
     },
     "output_type": "display_data"
    }
   ],
   "source": [
    "\n",
    "# load the dataset\n",
    "X, y = load_dataset('train.csv')\n",
    "\n",
    "# split into train and test sets\n",
    "X_train, X_test, y_train, y_test = train_test_split(X, y, test_size=0.11, random_state=1)\n",
    "\n",
    "# prepare input data\n",
    "X_train_enc, X_test_enc = prepare_inputs(X_train, X_test)\n",
    "\n",
    "# prepare output data\n",
    "#y_train_enc, y_test_enc = prepare_targets(y_train, y_test)\n",
    "\n",
    "# feature selection\n",
    "#X_train_fs, X_test_fs, fs = select_features(X_train_enc, y_train_enc, X_test_enc)\n",
    "X_train_fs, X_test_fs, fs = select_features(X_train_enc, y_train, X_test_enc)\n",
    "\n",
    "# what are scores for the features\n",
    "for i in range(len(fs.scores_)):\n",
    "    print('Feature %d: %f' % (i, fs.scores_[i]))\n",
    "\n",
    "# plot the scores\n",
    "pyplot.bar([i for i in range(len(fs.scores_))], fs.scores_)\n",
    "pyplot.show()"
   ]
  },
  {
   "cell_type": "code",
   "execution_count": null,
   "metadata": {},
   "outputs": [],
   "source": []
  }
 ],
 "metadata": {
  "kernelspec": {
   "display_name": "Python 3",
   "language": "python",
   "name": "python3"
  },
  "language_info": {
   "codemirror_mode": {
    "name": "ipython",
    "version": 3
   },
   "file_extension": ".py",
   "mimetype": "text/x-python",
   "name": "python",
   "nbconvert_exporter": "python",
   "pygments_lexer": "ipython3",
   "version": "3.7.0"
  }
 },
 "nbformat": 4,
 "nbformat_minor": 2
}
